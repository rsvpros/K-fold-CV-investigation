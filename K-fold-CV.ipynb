{
 "cells": [
  {
   "cell_type": "markdown",
   "id": "df7fd455-3850-4ac5-91cb-ba26f264fc1e",
   "metadata": {
    "tags": []
   },
   "source": [
    "# Investigating K-fold Cross Validation\n",
    "\n",
    "# TOC\n",
    "___\n",
    "[Sect.1: Introduction](#Sect.1)\n",
    "\n",
    "[Sect.2: Linear Regression Model](#Sect.2)\n",
    "\n",
    "[Sect.3: K-fold Cross Validation](#Sect.3)\n",
    "\n",
    "[Sect.4: Comparison with Leave One Out Validation](#Sect.4)"
   ]
  },
  {
   "cell_type": "code",
   "execution_count": null,
   "id": "5f6b8a3a-0efd-4d84-b6a0-5f217ec37a62",
   "metadata": {},
   "outputs": [],
   "source": []
  },
  {
   "cell_type": "markdown",
   "id": "a776e16d-f082-4ba2-89af-ce8806a2a1d7",
   "metadata": {
    "tags": []
   },
   "source": [
    "# Sect.1\n",
    "# Introduction\n",
    "[Back to top](#TOC)"
   ]
  },
  {
   "cell_type": "code",
   "execution_count": null,
   "id": "9f1b5825-3abe-4deb-b8e1-8e08e36fff09",
   "metadata": {},
   "outputs": [],
   "source": []
  },
  {
   "cell_type": "markdown",
   "id": "e7c95195-6a24-47cc-a620-1efc98f139d7",
   "metadata": {
    "tags": []
   },
   "source": [
    "# Sect.2\n",
    "# Linear Regression Model\n",
    "[Back to top](#TOC)"
   ]
  },
  {
   "cell_type": "code",
   "execution_count": null,
   "id": "23ed503f-6096-49a7-a727-dde021795343",
   "metadata": {},
   "outputs": [],
   "source": []
  },
  {
   "cell_type": "markdown",
   "id": "1446017a-1d0e-415d-ac8e-b76b51bdcc4e",
   "metadata": {
    "tags": []
   },
   "source": [
    "# Sect.3\n",
    "#  K-fold Cross Validation\n",
    "[Back to top](#TOC)"
   ]
  },
  {
   "cell_type": "code",
   "execution_count": null,
   "id": "c7bcd3e9-f4fd-452f-9e03-2dd3f4ad3280",
   "metadata": {},
   "outputs": [],
   "source": []
  },
  {
   "cell_type": "markdown",
   "id": "54d42b02-4244-4a51-a8b6-ed6014a0b2c3",
   "metadata": {
    "jp-MarkdownHeadingCollapsed": true,
    "tags": []
   },
   "source": [
    "# Sect.4\n",
    "# Comparison with Leave One Out Validation\n",
    "[Back to top](#TOC)"
   ]
  },
  {
   "cell_type": "code",
   "execution_count": null,
   "id": "08778ea1-34fa-4be2-a99c-2d7b64849785",
   "metadata": {},
   "outputs": [],
   "source": []
  }
 ],
 "metadata": {
  "kernelspec": {
   "display_name": "Python 3 (ipykernel)",
   "language": "python",
   "name": "python3"
  },
  "language_info": {
   "codemirror_mode": {
    "name": "ipython",
    "version": 3
   },
   "file_extension": ".py",
   "mimetype": "text/x-python",
   "name": "python",
   "nbconvert_exporter": "python",
   "pygments_lexer": "ipython3",
   "version": "3.9.12"
  }
 },
 "nbformat": 4,
 "nbformat_minor": 5
}
